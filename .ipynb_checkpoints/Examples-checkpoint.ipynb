{
 "cells": [
  {
   "cell_type": "markdown",
   "metadata": {},
   "source": [
    "# Usage for WFR package"
   ]
  },
  {
   "cell_type": "code",
   "execution_count": 1,
   "metadata": {
    "scrolled": true
   },
   "outputs": [],
   "source": [
    "import WFR\n",
    "import numpy as np\n",
    "import matplotlib.pyplot as plt\n",
    "import time"
   ]
  },
  {
   "cell_type": "markdown",
   "metadata": {},
   "source": [
    "We will write a function to generate a random Measure Object that satifies the closure condition."
   ]
  },
  {
   "cell_type": "code",
   "execution_count": 2,
   "metadata": {},
   "outputs": [],
   "source": [
    "def randMeas(num):    \n",
    "    v = 100*np.random.rand(num-1,3)-50\n",
    "    vend = -1*np.sum(v,axis=0)\n",
    "    a = np.zeros((num,1))\n",
    "    u = np.zeros((num,3))\n",
    "    for i in range(0,num-1):\n",
    "        a[i] = np.sqrt(np.sum(np.power(v[i,:],2)))\n",
    "        u[i,:] = v[i,:]/a[i]\n",
    "        \n",
    "    a[num-1]= np.sqrt(np.sum(np.power(vend,2)))\n",
    "    u[num-1]= vend/a[num-1]\n",
    "    return WFR.Measure(u,a)"
   ]
  },
  {
   "cell_type": "markdown",
   "metadata": {},
   "source": [
    "Choose parameters for the distance computation."
   ]
  },
  {
   "cell_type": "code",
   "execution_count": 3,
   "metadata": {},
   "outputs": [
    {
     "name": "stdout",
     "output_type": "stream",
     "text": [
      "The total mass of measure 1 is: 490219.4266091794\n",
      "The total mass of measure 2 is: 48976.16527869349\n"
     ]
    }
   ],
   "source": [
    "NoIterations=1000  # Maximum number of iterations before the algorithm terminates\n",
    "eps = 1e-6         # Minimum relative increase the algorithm terminates\n",
    "\n",
    "measure1 = randMeas(10000)  #Generate a random measure with 10000 supports\n",
    "measure2 = randMeas(1000)  #Generate a random measure with 1000 supports\n",
    "\n",
    "totalMass1=np.sum(measure1.masses)\n",
    "totalMass2=np.sum(measure2.masses)\n",
    "\n",
    "print(\"The total mass of measure 1 is: {}\".format(totalMass1))\n",
    "print(\"The total mass of measure 2 is: {}\".format(totalMass2))"
   ]
  },
  {
   "cell_type": "markdown",
   "metadata": {},
   "source": [
    "Now we will compute the WFR distance using Algorithm 1 from *The Square Root Normal Field Metric and Unbalanced Optimal Transport*."
   ]
  },
  {
   "cell_type": "code",
   "execution_count": 4,
   "metadata": {},
   "outputs": [
    {
     "name": "stdout",
     "output_type": "stream",
     "text": [
      "The distance is computed to be: 490219.4266091794+48976.16527869349-2154056.62219981983=480.71025315488583\n",
      "The algorithm took 1000 iterations to terminate.\n",
      "The algorithm took 15.863678932189941 seconds to converge.\n"
     ]
    }
   ],
   "source": [
    "\n",
    "timestart = time.time();\n",
    "dist,cost,ind,P,Q=WFR.measureDistance(measure1,measure2,NoIterations,eps)\n",
    "totaltime=time.time()-timestart\n",
    "\n",
    "print(\"The distance is computed to be: {}+{}-2{}={}\".format(totalMass1,totalMass2,cost[ind,0],dist.cpu()[0]))\n",
    "print(\"The algorithm took {} iterations to terminate.\".format(ind))\n",
    "print(\"The algorithm took {} seconds to converge.\".format(totaltime))"
   ]
  },
  {
   "cell_type": "markdown",
   "metadata": {},
   "source": [
    "Now we can plot the evolution of the cost function F over the iterations of the algorithm."
   ]
  },
  {
   "cell_type": "code",
   "execution_count": 5,
   "metadata": {},
   "outputs": [
    {
     "data": {
      "image/png": "[encoded data removed]",
      "text/plain": [
       "<Figure size 432x288 with 1 Axes>"
      ]
     },
     "metadata": {
      "needs_background": "light"
     },
     "output_type": "display_data"
    }
   ],
   "source": [
    "plt.plot(cost[0:ind])\n",
    "plt.show()"
   ]
  },
  {
   "cell_type": "markdown",
   "metadata": {},
   "source": [
    "We can also compute the approximate convergence rate at each iteration."
   ]
  },
  {
   "cell_type": "code",
   "execution_count": 6,
   "metadata": {},
   "outputs": [
    {
     "data": {
      "image/png": "[encoded data removed]",
      "text/plain": [
       "<Figure size 432x288 with 1 Axes>"
      ]
     },
     "metadata": {
      "needs_background": "light"
     },
     "output_type": "display_data"
    }
   ],
   "source": [
    "diff=np.diff(cost[0:ind],axis=0)\n",
    "logquotient=np.log(diff[1:ind-1]/diff[0:ind-2])\n",
    "aprox_conv_rate=logquotient[1:ind-2]/logquotient[0:ind-3]\n",
    "plt.plot(aprox_conv_rate)\n",
    "plt.show()"
   ]
  },
  {
   "cell_type": "markdown",
   "metadata": {},
   "source": [
    "# Complete Documentation of WFR.py below"
   ]
  },
  {
   "cell_type": "code",
   "execution_count": 7,
   "metadata": {
    "scrolled": false
   },
   "outputs": [
    {
     "name": "stdout",
     "output_type": "stream",
     "text": [
      "Help on module WFR:\n",
      "\n",
      "NAME\n",
      "    WFR\n",
      "\n",
      "CLASSES\n",
      "    builtins.object\n",
      "        Measure\n",
      "    \n",
      "    class Measure(builtins.object)\n",
      "     |  Measure(supports, masses)\n",
      "     |  \n",
      "     |  Init        \n",
      "     |  ----------\n",
      "     |  Measure Object\n",
      "     |      returns a Measure Object itialized from a np array representing the supports and the corresponding masses\n",
      "     |  \n",
      "     |  Methods defined here:\n",
      "     |  \n",
      "     |  __init__(self, supports, masses)\n",
      "     |      Initialize self.  See help(type(self)) for accurate signature.\n",
      "     |  \n",
      "     |  ----------------------------------------------------------------------\n",
      "     |  Data descriptors defined here:\n",
      "     |  \n",
      "     |  __dict__\n",
      "     |      dictionary for instance variables (if defined)\n",
      "     |  \n",
      "     |  __weakref__\n",
      "     |      list of weak references to the object (if defined)\n",
      "\n",
      "FUNCTIONS\n",
      "    calcF(P, Q, Omega)\n",
      "        Parameters\n",
      "        ----------\n",
      "        P,Q: two tensors\n",
      "        pair of tensors representing the square root of current semi-coupling\n",
      "        ----------\n",
      "        Omega: tensor \n",
      "        tensor representing the cost matrix\n",
      "        ----------        \n",
      "        \n",
      "        Returns\n",
      "        ----------\n",
      "        cost: float\n",
      "        value of the cost function F for the semi-coupling (P,Q)\n",
      "    \n",
      "    calcOmega(u, v)\n",
      "        Parameters\n",
      "        ----------\n",
      "        u: tensor \n",
      "            tensor representing the supports of measure1\n",
      "        ----------   \n",
      "        v: tensor \n",
      "            tensor representing the supports of measure2\n",
      "        ----------\n",
      "        \n",
      "        Returns\n",
      "        ----------\n",
      "        Omega : tensor\n",
      "            tensor representing the cost matrix\n",
      "    \n",
      "    calcOmegaWithRotation(u, v, R)\n",
      "        Parameters\n",
      "        ----------\n",
      "        u: tensor \n",
      "            tensor representing the supports of measure1\n",
      "        ----------   \n",
      "        v: tensor \n",
      "            tensor representing the supports of measure2\n",
      "        ----------\n",
      "        R : tensor\n",
      "            tensor representing a rotation of measure1\n",
      "        \n",
      "        Returns\n",
      "        ----------\n",
      "        Omega : tensor\n",
      "            tensor representing the cost matrix\n",
      "    \n",
      "    colNormalize(Qnew, b, m)\n",
      "        Parameters\n",
      "        ----------\n",
      "        Qnew: two tensors\n",
      "        tensor representing the square root of current semi-coupling\n",
      "        ----------   \n",
      "        b: tensor \n",
      "        tensor representing the masses of measure2\n",
      "        ---------- \n",
      "        m: int \n",
      "        number of supports of measure1\n",
      "        ----------        \n",
      "        \n",
      "        Returns\n",
      "        ----------\n",
      "        QnewNormalized: tensor\n",
      "        tensor representing the updated square root of current semi-coupling\n",
      "    \n",
      "    contractionRowCol(P, Q, Omega, a, b, m, n)\n",
      "        Parameters\n",
      "        ----------\n",
      "        P,Q: two tensors\n",
      "        pair of tensors representing the square root of current semi-coupling\n",
      "        ----------\n",
      "        Omega: tensor \n",
      "        tensor representing the cost matrix\n",
      "        ----------   \n",
      "        a: tensor \n",
      "        tensor representing the masses of measure1\n",
      "        ----------   \n",
      "        b: tensor \n",
      "        tensor representing the masses of measure2\n",
      "        ----------      \n",
      "        m: int\n",
      "        number of supports of measure1\n",
      "        ----------   \n",
      "        n: int \n",
      "        number of supports of measure2\n",
      "        ----------        \n",
      "        \n",
      "        Returns\n",
      "        ----------\n",
      "        P,Q: two tensors\n",
      "        pair of tensors representing the updated square root of current semi-coupling\n",
      "    \n",
      "    getAssignment(a, b, m, n, Omega, NoIterations, eps)\n",
      "        Parameters\n",
      "        ----------\n",
      "        a: tensor \n",
      "            tensor representing the masses of measure1\n",
      "        ----------   \n",
      "        b: tensor \n",
      "            tensor representing the masses of measure2\n",
      "        ----------      \n",
      "        m: int\n",
      "            number of supports of measure1\n",
      "        ----------   \n",
      "        n: int \n",
      "            number of supports of measure2\n",
      "        ----------\n",
      "        Omega: tensor \n",
      "            tensor representing the cost matrix\n",
      "        ----------\n",
      "        NoIterations : int\n",
      "            maximum number of iterations for the WFR algorithm\n",
      "        ----------\n",
      "        eps : float\n",
      "            minimum increase in the cost function F before the algorithm terminates           \n",
      "        \n",
      "        Returns\n",
      "        ----------\n",
      "        P,Q: two tensors\n",
      "            pair of tensors representing the updated square root of optimal semi-coupling\n",
      "    \n",
      "    getRotation(P, Q, u, v, m, n)\n",
      "        Parameters\n",
      "        ----------\n",
      "        P,Q: two tensors\n",
      "            pair of tensors representing the updated square root of current semi-coupling\n",
      "        ----------\n",
      "        u: tensor \n",
      "            tensor representing the supports of measure1\n",
      "        ----------   \n",
      "        v: tensor \n",
      "            tensor representing the supports of measure2\n",
      "        ----------      \n",
      "        m: int\n",
      "            number of supports of measure1\n",
      "        ----------   \n",
      "        n: int \n",
      "            number of supports of measure2     \n",
      "        \n",
      "        Returns\n",
      "        ----------\n",
      "        R : tensor\n",
      "            tensor representing the optimal rotation\n",
      "    \n",
      "    measureDistance(measure1, measure2, NoIterations, eps)\n",
      "        Parameters\n",
      "        ----------\n",
      "        measure1 : Measure Object\n",
      "            source measure\n",
      "        ----------\n",
      "        measure2 : Measure Object\n",
      "            target measure\n",
      "        ----------\n",
      "        NoIterations : int\n",
      "            maximum number of iterations for the WFR algorithm\n",
      "        ----------\n",
      "        eps : float\n",
      "            minimum increase in the cost function F before the algorithm terminates\n",
      "        \n",
      "        Returns        \n",
      "        ----------\n",
      "        dist: Float\n",
      "            distance of between self and shape2      \n",
      "        ----------\n",
      "        cost: np.array\n",
      "            evolution of the cost function F        \n",
      "        ----------\n",
      "        ind: int\n",
      "            number of iterations until convergence        \n",
      "        ----------\n",
      "        P,Q: two tensors\n",
      "            pair of tensors representing the  square root of optimal semi-coupling\n",
      "    \n",
      "    measureDistanceModSO3(measure1, measure2, RotIterations, RotDepth, NoIterations, eps)\n",
      "        Parameters\n",
      "        ----------\n",
      "        measure1 : Measure Object\n",
      "            source measure\n",
      "        ----------\n",
      "        measure2 : Measure Object\n",
      "            target measure\n",
      "        ----------\n",
      "        RotIterations : int\n",
      "            maximum number of iterations for determining the optimal rotation\n",
      "        ----------\n",
      "        RotDepth : int\n",
      "            maximum number of iterations for each optimal rotation step\n",
      "        ----------\n",
      "        NoIterations : int\n",
      "            maximum number of iterations for the WFR algorithm\n",
      "        ----------\n",
      "        eps : float\n",
      "            minimum increase in the cost function F before the algorithm terminates\n",
      "        \n",
      "        Returns        \n",
      "        ----------\n",
      "        meas: Measure Object\n",
      "            measure at the midpoint between measure1 and measure2 with respect to the WFR metric\n",
      "    \n",
      "    midpointMeasure(measure1, measure2, NoIterations, eps)\n",
      "        Parameters\n",
      "        ----------\n",
      "        measure1 : Measure Object\n",
      "            source measure\n",
      "        ----------\n",
      "        measure2 : Measure Object\n",
      "            target measure\n",
      "        ----------\n",
      "        NoIterations : int\n",
      "            maximum number of iterations for the WFR algorithm\n",
      "        ----------\n",
      "        eps : float\n",
      "            minimum increase in the cost function F before the algorithm terminates\n",
      "        \n",
      "        Returns        \n",
      "        ----------\n",
      "        dist: Float\n",
      "            distance of between measure1 and measure2 mod SO3      \n",
      "        ----------\n",
      "        P,Q: two tensors\n",
      "            pair of tensors representing the square root of optimal semi-coupling\n",
      "        ----------\n",
      "        R : tensor\n",
      "            tensor representing the optimal rotation\n",
      "    \n",
      "    rowNormalize(Pnew, a, n)\n",
      "        Parameters\n",
      "        ----------\n",
      "        Pnew: two tensors\n",
      "        pair of tensors representing the square root of current semi-coupling\n",
      "        ----------\n",
      "        Omega: tensor \n",
      "        tensor representing the cost matrix\n",
      "        ----------   \n",
      "        a: tensor \n",
      "        tensor representing the masses of measure1\n",
      "        ----------  \n",
      "        n: int \n",
      "        number of supports of measure2\n",
      "        ----------        \n",
      "        \n",
      "        Returns\n",
      "        ----------\n",
      "        PnewNormalized: tensor\n",
      "        tensor representing the updated square root of current semi-coupling\n",
      "\n",
      "DATA\n",
      "    __warningregistry__ = {'version': 11}\n",
      "    device = device(type='cuda', index=0)\n",
      "\n",
      "FILE\n",
      "    h:\\github\\wassersteinfisherraodistance\\wfr.py\n",
      "\n"
     ]
    },
    {
     "name": "stdout",
     "output_type": "stream",
     "text": [
      "\n"
     ]
    }
   ],
   "source": [
    "help(WFR)"
   ]
  }
 ],
 "metadata": {
  "kernelspec": {
   "display_name": "Python 3",
   "language": "python",
   "name": "python3"
  },
  "language_info": {
   "codemirror_mode": {
    "name": "ipython",
    "version": 3
   },
   "file_extension": ".py",
   "mimetype": "text/x-python",
   "name": "python",
   "nbconvert_exporter": "python",
   "pygments_lexer": "ipython3",
   "version": "3.7.3"
  }
 },
 "nbformat": 4,
 "nbformat_minor": 2
}
