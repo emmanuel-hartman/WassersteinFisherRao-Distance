{
 "cells": [
  {
   "cell_type": "markdown",
   "metadata": {},
   "source": [
    "# Usage for Shape distance using the WFR package"
   ]
  },
  {
   "cell_type": "code",
   "execution_count": 1,
   "metadata": {
    "scrolled": true
   },
   "outputs": [],
   "source": [
    "import PLShapes\n",
    "import numpy as np\n",
    "import matplotlib.pyplot as plt\n",
    "import open3d as o3d\n",
    "import time"
   ]
  },
  {
   "cell_type": "markdown",
   "metadata": {},
   "source": [
    "Import PL shapes for distance computation"
   ]
  },
  {
   "cell_type": "code",
   "execution_count": 2,
   "metadata": {},
   "outputs": [
    {
     "name": "stdout",
     "output_type": "stream",
     "text": [
      "The surface area cat0 is: 19588.09349754554\n",
      "The surface area cat1 is: 20117.263055936543\n"
     ]
    }
   ],
   "source": [
    "cat0=PLShapes.PLShape(r\"data\\cat0.ply\").downsampleShape(1000)\n",
    "cat1=PLShapes.PLShape(r\"data\\cat1.ply\").downsampleShape(1000)\n",
    "cat1.mesh.translate((100,0,0))\n",
    "\n",
    "totalMass0=np.sum(cat0.meas.masses)\n",
    "totalMass1=np.sum(cat1.meas.masses)\n",
    "\n",
    "cat0.normalColorize(False)\n",
    "cat1.shadeColorize(np.array([0, 0.4470, 0.7410]),False)\n",
    "o3d.visualization.draw_geometries([cat0.mesh,cat1.mesh])\n",
    "\n",
    "print(\"The surface area cat0 is: {}\".format(totalMass0))\n",
    "print(\"The surface area cat1 is: {}\".format(totalMass1))"
   ]
  },
  {
   "cell_type": "markdown",
   "metadata": {},
   "source": [
    "Choose parameters for the distance computation."
   ]
  },
  {
   "cell_type": "code",
   "execution_count": 3,
   "metadata": {},
   "outputs": [],
   "source": [
    "NoIterations=1000  # Maximum number of iterations before the algorithm terminates\n",
    "eps = 1e-6         # Minimum relative increase the algorithm terminates"
   ]
  },
  {
   "cell_type": "markdown",
   "metadata": {},
   "source": [
    "Now we will compute the SRNF distance using Algorithm 1 from *The Square Root Normal Field Metric and Unbalanced Optimal Transport*."
   ]
  },
  {
   "cell_type": "code",
   "execution_count": 4,
   "metadata": {},
   "outputs": [
    {
     "name": "stdout",
     "output_type": "stream",
     "text": [
      "The distance is computed to be: 19588.09349754554+20117.263055936543-219286.421384220732=33.652842153978874\n",
      "The algorithm took 320 iterations to terminate.\n",
      "The algorithm took 1.6858668327331543 seconds to converge.\n"
     ]
    }
   ],
   "source": [
    "timestart = time.time();\n",
    "dist,cost,ind,P,Q=cat0.shapeDistance(cat1,NoIterations,eps)\n",
    "totaltime=time.time()-timestart\n",
    "\n",
    "print(\"The distance is computed to be: {}+{}-2{}={}\".format(totalMass0,totalMass1,cost[ind,0],dist.cpu()[0]))\n",
    "print(\"The algorithm took {} iterations to terminate.\".format(ind))\n",
    "print(\"The algorithm took {} seconds to converge.\".format(totaltime))"
   ]
  },
  {
   "cell_type": "markdown",
   "metadata": {},
   "source": [
    "Now we can plot correspondences given by the optimal semi-coupling."
   ]
  },
  {
   "cell_type": "code",
   "execution_count": 5,
   "metadata": {},
   "outputs": [],
   "source": [
    "cat1.colorizeFromMap(P,cat0.meas.supports,False)\n",
    "o3d.visualization.draw_geometries([cat0.mesh,cat1.mesh])"
   ]
  },
  {
   "cell_type": "markdown",
   "metadata": {},
   "source": [
    "Choose more parameters for the distance computation mod SO3."
   ]
  },
  {
   "cell_type": "code",
   "execution_count": 6,
   "metadata": {},
   "outputs": [],
   "source": [
    "cat0.normalColorize(False)\n",
    "cat1.shadeColorize(np.array([0, 0.4470, 0.7410]),False)\n",
    "RotIterations=100\n",
    "RotDepth=100"
   ]
  },
  {
   "cell_type": "markdown",
   "metadata": {},
   "source": [
    "We can also perform rotational alignment using this method."
   ]
  },
  {
   "cell_type": "code",
   "execution_count": 7,
   "metadata": {},
   "outputs": [
    {
     "name": "stdout",
     "output_type": "stream",
     "text": [
      "The distance is computed to be: 17.47785356210148\n",
      "The algorithm took 320 iterations to terminate.\n",
      "The algorithm took 5.194364786148071 seconds to converge.\n"
     ]
    }
   ],
   "source": [
    "timestart = time.time();\n",
    "dist,P,Q,R=cat0.shapeDistanceModSO3(cat1,RotIterations,RotDepth,NoIterations,eps)\n",
    "totaltime=time.time()-timestart\n",
    "\n",
    "print(\"The distance is computed to be: {}\".format(dist.cpu()[0]))\n",
    "print(\"The algorithm took {} iterations to terminate.\".format(ind))\n",
    "print(\"The algorithm took {} seconds to converge.\".format(totaltime))"
   ]
  },
  {
   "cell_type": "markdown",
   "metadata": {},
   "source": [
    "Now we can plot correspondences given by the optimal semi-coupling and the rotational alignment produced by this method."
   ]
  },
  {
   "cell_type": "code",
   "execution_count": 10,
   "metadata": {},
   "outputs": [],
   "source": [
    "ncat1=PLShapes.PLShape(r\"data\\cat1.ply\").downsampleShape(1000)\n",
    "ncat1.mesh.translate((200,0,0))\n",
    "ncat1=ncat1.getRotatedShape(R)\n",
    "ncat1.colorizeFromMap(P,cat0.meas.supports,False)\n",
    "\n",
    "o3d.visualization.draw_geometries([cat0.mesh,cat1.mesh,ncat1.mesh])"
   ]
  },
  {
   "cell_type": "markdown",
   "metadata": {},
   "source": [
    "# Complete Documentation of PLShapes.py below"
   ]
  },
  {
   "cell_type": "code",
   "execution_count": 11,
   "metadata": {
    "scrolled": false
   },
   "outputs": [
    {
     "name": "stdout",
     "output_type": "stream",
     "text": [
      "Help on module PLShapes:\n",
      "\n",
      "NAME\n",
      "    PLShapes\n",
      "\n",
      "CLASSES\n",
      "    builtins.object\n",
      "        PLShape\n",
      "    \n",
      "    class PLShape(builtins.object)\n",
      "     |  PLShape(filename=None, mesh=None, meas=None)\n",
      "     |  \n",
      "     |  Methods defined here:\n",
      "     |  \n",
      "     |  __init__(self, filename=None, mesh=None, meas=None)\n",
      "     |      Init        \n",
      "     |      ----------\n",
      "     |      PLShape Object\n",
      "     |          returns a Shape Object itialized from a PLY file, a Open3D mesh, or a Measure Object\n",
      "     |  \n",
      "     |  colorizeFromMap(self, P, N, visualize)\n",
      "     |      Colors the PL shape so that each face is shaded according semi-coupling P,\n",
      "     |      \n",
      "     |      Parameters\n",
      "     |      ----------\n",
      "     |      P : tensor \n",
      "     |          The semi-coupling that defines the map from the PL shape to some other PL shape\n",
      "     |      ----------\n",
      "     |      N : np.array \n",
      "     |          The unit normal vectors of the other PL shape\n",
      "     |      ----------\n",
      "     |      visualize : boolean\n",
      "     |          whether or not to visualize the shape ofter recoloring the shape\n",
      "     |  \n",
      "     |  downsampleShape(self, n)\n",
      "     |      Parameters\n",
      "     |      ----------\n",
      "     |      n : int \n",
      "     |          The number of desired faces for the PL shape\n",
      "     |          \n",
      "     |          \n",
      "     |      Returns        \n",
      "     |      ----------\n",
      "     |      shape: PLShape\n",
      "     |          PLShape of the downsampled mesh\n",
      "     |  \n",
      "     |  exportToFile(self, filename)\n",
      "     |      Parameters\n",
      "     |      ----------\n",
      "     |      filename : String\n",
      "     |           path to save location for self.mesh as a PLY file\n",
      "     |      \n",
      "     |      Save       \n",
      "     |      ----------\n",
      "     |      filename.ply : PLY File\n",
      "     |          save self.mesh as a PLY file\n",
      "     |  \n",
      "     |  getAreasAsArray(self)\n",
      "     |      Returns        \n",
      "     |      ----------\n",
      "     |      areas: np.array\n",
      "     |          np array of the areas of the faces of the PL surface\n",
      "     |  \n",
      "     |  getMeasureFromShape(self)\n",
      "     |      Returns        \n",
      "     |      ----------\n",
      "     |      measure: Measure Object\n",
      "     |          returns a Measure Object that corresponds to the PL shape opject\n",
      "     |  \n",
      "     |  getNormalsAsArray(self)\n",
      "     |      Returns        \n",
      "     |      ----------\n",
      "     |      normals: np.array\n",
      "     |          np array of the unit normals of the faces of the PL surface\n",
      "     |  \n",
      "     |  getRotatedShape(self, R)\n",
      "     |      Parameters\n",
      "     |      ----------\n",
      "     |      R : tensor \n",
      "     |          tensor representing a rotation\n",
      "     |      Returns        \n",
      "     |      ----------\n",
      "     |      shape: PLShape\n",
      "     |          PLShape of the rotated object\n",
      "     |  \n",
      "     |  getShapeFromMeasure(self)\n",
      "     |      Returns        \n",
      "     |      ----------\n",
      "     |      shape: PLShape Object\n",
      "     |          returns a Shape Object with the mesh of the unique convex PL surface that corresponds to the prescribed measure\n",
      "     |  \n",
      "     |  normalColorize(self, visualize)\n",
      "     |      Colors the PL shape so that each face is colored according to its unit normal vector.\n",
      "     |      \n",
      "     |      Parameters\n",
      "     |      ----------\n",
      "     |      visualize : boolean\n",
      "     |          whether or not to visualize the shape ofter recoloring the shape\n",
      "     |  \n",
      "     |  shadeColorize(self, Base, visualize)\n",
      "     |      Colors the PL shape so that each face is shaded according to its unit normal vector\n",
      "     |      \n",
      "     |      Parameters\n",
      "     |      ----------\n",
      "     |      Base : np.array \n",
      "     |          The base color of the mesh\n",
      "     |      ----------\n",
      "     |      visualize : boolean\n",
      "     |          whether or not to visualize the shape ofter recoloring the shape\n",
      "     |  \n",
      "     |  shapeDistance(self, shape2, NoIterations, eps)\n",
      "     |      Parameters\n",
      "     |      ----------\n",
      "     |      shape2 : PLShape Object\n",
      "     |          target shape\n",
      "     |      ----------\n",
      "     |      NoIterations : int\n",
      "     |          maximum number of iterations for the WFR algorithm\n",
      "     |      ----------\n",
      "     |      eps : float\n",
      "     |          minimum increase in the cost function F before the algorithm terminates\n",
      "     |          \n",
      "     |      Returns        \n",
      "     |      ----------\n",
      "     |      dist: Float\n",
      "     |          distance of between self and shape2      \n",
      "     |      ----------\n",
      "     |      cost: np.array\n",
      "     |          evolution of the cost function F        \n",
      "     |      ----------\n",
      "     |      ind: int\n",
      "     |          number of iterations until convergence        \n",
      "     |      ----------\n",
      "     |      P,Q: two tensors\n",
      "     |          pair of tensors representing the  square root of optimal semi-coupling\n",
      "     |  \n",
      "     |  shapeDistanceModSO3(self, shape2, RotIterations, RotDepth, NoIterations, eps)\n",
      "     |      Parameters\n",
      "     |      ----------\n",
      "     |      shape2 : PLShape Object\n",
      "     |          target shape\n",
      "     |      ----------\n",
      "     |      RotIterations : int\n",
      "     |          maximum number of iterations for determining the optimal rotation\n",
      "     |      ----------\n",
      "     |      RotDepth : int\n",
      "     |          maximum number of iterations for each optimal rotation step\n",
      "     |      ----------\n",
      "     |      NoIterations : int\n",
      "     |          maximum number of iterations for the WFR algorithm\n",
      "     |      ----------\n",
      "     |      eps : float\n",
      "     |          minimum increase in the cost function F before the algorithm terminates\n",
      "     |          \n",
      "     |      Returns        \n",
      "     |      ----------\n",
      "     |      dist: Float\n",
      "     |          distance of between  self and shape2 mod SO3     \n",
      "     |      ----------\n",
      "     |      P,Q: two tensors\n",
      "     |          pair of tensors representing the  square root of optimal semi-coupling\n",
      "     |      ----------\n",
      "     |      R : tensor\n",
      "     |          tensor representing the optimal rotation\n",
      "     |  \n",
      "     |  visualizeShape(self)\n",
      "     |      Visualizes the PL shape\n",
      "     |  \n",
      "     |  ----------------------------------------------------------------------\n",
      "     |  Data descriptors defined here:\n",
      "     |  \n",
      "     |  __dict__\n",
      "     |      dictionary for instance variables (if defined)\n",
      "     |  \n",
      "     |  __weakref__\n",
      "     |      list of weak references to the object (if defined)\n",
      "\n",
      "FILE\n",
      "    h:\\github\\wassersteinfisherrao\\plshapes.py\n",
      "\n",
      "\n"
     ]
    }
   ],
   "source": [
    "help(PLShapes)"
   ]
  },
  {
   "cell_type": "code",
   "execution_count": null,
   "metadata": {},
   "outputs": [],
   "source": []
  }
 ],
 "metadata": {
  "kernelspec": {
   "display_name": "Python 3",
   "language": "python",
   "name": "python3"
  },
  "language_info": {
   "codemirror_mode": {
    "name": "ipython",
    "version": 3
   },
   "file_extension": ".py",
   "mimetype": "text/x-python",
   "name": "python",
   "nbconvert_exporter": "python",
   "pygments_lexer": "ipython3",
   "version": "3.7.3"
  }
 },
 "nbformat": 4,
 "nbformat_minor": 2
}
